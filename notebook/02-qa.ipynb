{
 "cells": [
  {
   "cell_type": "code",
   "execution_count": 1,
   "id": "1bdd87c7",
   "metadata": {},
   "outputs": [],
   "source": [
    "from zlai.llms import Zhipu, ZhipuGLM4\n",
    "from zlai.embedding import Embedding\n",
    "from zlai.agent import KnowledgeAgent\n",
    "from zlai.elasticsearch import get_es_con"
   ]
  },
  {
   "cell_type": "code",
   "execution_count": 2,
   "id": "1ea4e991",
   "metadata": {},
   "outputs": [],
   "source": [
    "index_name = \"5g\"\n",
    "hosts = \"http://localhost:9200/\"\n",
    "con = get_es_con(hosts=\"http://localhost:9200/\")"
   ]
  },
  {
   "cell_type": "code",
   "execution_count": 3,
   "id": "f9149007",
   "metadata": {},
   "outputs": [],
   "source": [
    "model_path = \"/home/models/BAAI/bge-m3\"\n",
    "embedding = Embedding(\n",
    "    model_path=model_path,\n",
    "    max_len=5000,\n",
    "    max_len_error='split',\n",
    "    batch_size=128,\n",
    "    verbose=True,\n",
    ")"
   ]
  },
  {
   "cell_type": "code",
   "execution_count": 4,
   "id": "c0685181",
   "metadata": {},
   "outputs": [],
   "source": [
    "llm = Zhipu(generate_config=ZhipuGLM4())"
   ]
  },
  {
   "cell_type": "code",
   "execution_count": 5,
   "id": "553659ba",
   "metadata": {},
   "outputs": [],
   "source": [
    "knowledge = KnowledgeAgent(\n",
    "    llm=llm, embedding=embedding, verbose=True,\n",
    "    index_name=index_name, elasticsearch_host=hosts)"
   ]
  },
  {
   "cell_type": "code",
   "execution_count": 7,
   "id": "2bcc705d",
   "metadata": {
    "scrolled": false
   },
   "outputs": [
    {
     "name": "stdout",
     "output_type": "stream",
     "text": [
      "\u001b[32m[Knowledge Agent] Find Knowledge Title: 电源要求.txt, Score: 1.7882.\u001b[0m\n",
      "\u001b[31m==================== [Knowledge Agent] Messages Start ====================\n",
      "\u001b[0m\n",
      "\u001b[34muser [383]: [\n",
      "参考文本:电源要求\n",
      "\n",
      "E9000服务器可选择交流或者直流电源供电。\n",
      "\n",
      "表1 E9000服务器电源要求（AC电源） 指标项 | 技术参数\n",
      "---|---\n",
      "额定输入电压 | 100 V~240 V自适应...]\n",
      "\u001b[0m\n",
      "\u001b[31m==================== [Knowledge Agent] Messages End    ====================\n",
      "\u001b[0m\n",
      "\u001b[33m[Knowledge Agent] Final Answer: E9000服务器的电源要求如下：\n",
      "\n",
      "1. 对于AC电源：\n",
      "   - 额定输入电压为100 V至240 V自适应标准交流电源，或者240V DC、336V DC高压直流。\n",
      "   - 配置6个电源模块，支持N+N或N+1冗余。\n",
      "   - 单个电源模块最大输出功率为2340 W。\n",
      "   - 整机最大功率为6600 W。\n",
      "\n",
      "2. 对于-48 V直流电源：\n",
      "   - 额定输入电压为-48 V DC。\n",
      "   - 同样配置6个电源模块，支持N+N或N+1冗余。\n",
      "   - 单个电源模块最大输出功率为1840 W。\n",
      "   - 整机最大功率同样为6600 W。\n",
      "\n",
      "因此，E9000服务器能够根据实际需求选择适用的电源类型。\n",
      "\u001b[0m\n",
      "\u001b[32m[Knowledge Agent] End ...\n",
      "\u001b[0m\n"
     ]
    }
   ],
   "source": [
    "task_completion = knowledge(\"E9000服务器的电源要求是什么？\")"
   ]
  },
  {
   "cell_type": "code",
   "execution_count": 10,
   "id": "31bb96c5",
   "metadata": {},
   "outputs": [
    {
     "name": "stdout",
     "output_type": "stream",
     "text": [
      "E9000服务器的电源要求如下：\n",
      "\n",
      "1. 对于AC电源：\n",
      "   - 额定输入电压为100 V至240 V自适应标准交流电源，或者240V DC、336V DC高压直流。\n",
      "   - 配置6个电源模块，支持N+N或N+1冗余。\n",
      "   - 单个电源模块最大输出功率为2340 W。\n",
      "   - 整机最大功率为6600 W。\n",
      "\n",
      "2. 对于-48 V直流电源：\n",
      "   - 额定输入电压为-48 V DC。\n",
      "   - 同样配置6个电源模块，支持N+N或N+1冗余。\n",
      "   - 单个电源模块最大输出功率为1840 W。\n",
      "   - 整机最大功率同样为6600 W。\n",
      "\n",
      "因此，E9000服务器能够根据实际需求选择适用的电源类型。\n"
     ]
    }
   ],
   "source": [
    "print(task_completion.content)"
   ]
  },
  {
   "cell_type": "code",
   "execution_count": null,
   "id": "96f39afc",
   "metadata": {},
   "outputs": [],
   "source": []
  },
  {
   "cell_type": "code",
   "execution_count": null,
   "id": "6f49822b",
   "metadata": {},
   "outputs": [],
   "source": []
  },
  {
   "cell_type": "markdown",
   "id": "9248e03d",
   "metadata": {},
   "source": [
    "------"
   ]
  }
 ],
 "metadata": {
  "kernelspec": {
   "display_name": "Python 3 (ipykernel)",
   "language": "python",
   "name": "python3"
  },
  "language_info": {
   "codemirror_mode": {
    "name": "ipython",
    "version": 3
   },
   "file_extension": ".py",
   "mimetype": "text/x-python",
   "name": "python",
   "nbconvert_exporter": "python",
   "pygments_lexer": "ipython3",
   "version": "3.10.11"
  },
  "nbTranslate": {
   "displayLangs": [
    "*"
   ],
   "hotkey": "alt-t",
   "langInMainMenu": true,
   "sourceLang": "en",
   "targetLang": "fr",
   "useGoogleTranslate": true
  },
  "toc": {
   "base_numbering": 1,
   "nav_menu": {},
   "number_sections": true,
   "sideBar": true,
   "skip_h1_title": false,
   "title_cell": "Table of Contents",
   "title_sidebar": "Contents",
   "toc_cell": false,
   "toc_position": {},
   "toc_section_display": true,
   "toc_window_display": false
  }
 },
 "nbformat": 4,
 "nbformat_minor": 5
}
