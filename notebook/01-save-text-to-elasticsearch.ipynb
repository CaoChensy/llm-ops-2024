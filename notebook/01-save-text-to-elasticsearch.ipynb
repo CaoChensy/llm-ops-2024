{
 "cells": [
  {
   "cell_type": "code",
   "execution_count": 1,
   "id": "45ed2ad5",
   "metadata": {},
   "outputs": [],
   "source": [
    "from zlai.embedding import *\n",
    "from pydantic import BaseModel\n",
    "from typing import List, Optional\n",
    "from datetime import datetime"
   ]
  },
  {
   "cell_type": "code",
   "execution_count": 2,
   "id": "e560de05",
   "metadata": {},
   "outputs": [],
   "source": [
    "from zlai.retrievers import *\n",
    "from zlai.schema import *\n",
    "from zlai.elasticsearch import *\n",
    "from zlai.elasticsearch.document import *"
   ]
  },
  {
   "cell_type": "markdown",
   "id": "996102bb",
   "metadata": {},
   "source": [
    "# 准备数据"
   ]
  },
  {
   "cell_type": "code",
   "execution_count": 3,
   "id": "268062b2",
   "metadata": {},
   "outputs": [],
   "source": [
    "path = \"./data/\"\n",
    "embedding = Embedding(\n",
    "    model_path=\"/home/models/BAAI/bge-m3\",\n",
    "    max_len=5000,\n",
    "    batch_size=4,\n",
    "    verbose=True,\n",
    ")"
   ]
  },
  {
   "cell_type": "code",
   "execution_count": 4,
   "id": "17c17c89",
   "metadata": {},
   "outputs": [],
   "source": [
    "# ES 的索引结构\n",
    "class DataAssetDocument(BaseModel):\n",
    "    url: Optional[str] = \"\"\n",
    "    title: Optional[str] = \"\"\n",
    "    content: Optional[str] = \"\"\n",
    "    vector: List[float]\n",
    "    date: datetime = datetime.now()"
   ]
  },
  {
   "cell_type": "code",
   "execution_count": 5,
   "id": "2070ceb6",
   "metadata": {},
   "outputs": [
    {
     "name": "stderr",
     "output_type": "stream",
     "text": [
      "100%|██████████████████████████████████████████████████████████████████████████████████| 34/34 [00:01<00:00, 23.70it/s]\n"
     ]
    },
    {
     "name": "stdout",
     "output_type": "stream",
     "text": [
      "\u001b[32mLoading model ...\u001b[0m\n",
      "\u001b[32mSuccess load model ...\u001b[0m\n"
     ]
    },
    {
     "name": "stderr",
     "output_type": "stream",
     "text": [
      "100%|████████████████████████████████████████████████████████████████████████████████████| 9/9 [01:39<00:00, 11.06s/it]\n"
     ]
    }
   ],
   "source": [
    "load = LoadingDocuments(\n",
    "    embedding=embedding,\n",
    "    chunk_size=3000,\n",
    "    chunk_overlap=500,\n",
    "    separator=r\"。|\\.\",\n",
    "    glob='txt',\n",
    "    keep_separator=\"。\",\n",
    "    verbose=True,\n",
    ")\n",
    "documents = load(path=path)"
   ]
  },
  {
   "cell_type": "markdown",
   "id": "ffdf7226",
   "metadata": {},
   "source": [
    "# 将数据保存至ES"
   ]
  },
  {
   "cell_type": "markdown",
   "id": "63914500",
   "metadata": {},
   "source": [
    "## 创建ES index"
   ]
  },
  {
   "cell_type": "code",
   "execution_count": 6,
   "id": "59819d26",
   "metadata": {},
   "outputs": [],
   "source": [
    "index_name = \"5g\"\n",
    "con = get_es_con(hosts=\"http://localhost:9200/\")"
   ]
  },
  {
   "cell_type": "code",
   "execution_count": 7,
   "id": "847dffa9",
   "metadata": {},
   "outputs": [
    {
     "name": "stdout",
     "output_type": "stream",
     "text": [
      "\u001b[1m\u001b[32mIndex 5g created!\u001b[0m\n"
     ]
    }
   ],
   "source": [
    "from elasticsearch_dsl import Document\n",
    "from elasticsearch_dsl.field import Text, DenseVector\n",
    "\n",
    "class DataAssetDocSchema(Document):\n",
    "    url = Text()\n",
    "    title = Text(analyzer=analyzer_ik, search_analyzer=analyzer_ik)\n",
    "    content = Text(analyzer=analyzer_ik, search_analyzer=analyzer_ik)\n",
    "    vector = DenseVector(dims=1024)\n",
    "    date = Text()\n",
    "\n",
    "create_index(\n",
    "    index_name=index_name,\n",
    "    field_schema=DataAssetDocSchema,\n",
    "    reset=True, con=con, disp=True\n",
    ")"
   ]
  },
  {
   "cell_type": "markdown",
   "id": "c98e5441",
   "metadata": {},
   "source": [
    "## 保存数据"
   ]
  },
  {
   "cell_type": "code",
   "execution_count": 9,
   "id": "8fb6ccb8",
   "metadata": {},
   "outputs": [
    {
     "name": "stdout",
     "output_type": "stream",
     "text": [
      "\u001b[34mStart saving data to ElasticSearch, current document: 0 ...\u001b[0m\n"
     ]
    },
    {
     "name": "stderr",
     "output_type": "stream",
     "text": [
      "Progress: 100%|██████████████████████████████████████████████████████████████████████████| 3/3 [00:00<00:00, 14.70it/s]\n"
     ]
    }
   ],
   "source": [
    "save = DocumentSaveToElasticsearch(\n",
    "    host=\"http://localhost:9200/\",\n",
    "    index_name=index_name,\n",
    "    embedding=embedding,\n",
    "    batch_size=16,\n",
    "    thresh=1.95,\n",
    "    verbose=True,\n",
    ")\n",
    "\n",
    "data = [DataAssetDocument.model_validate(doc.model_dump()).model_dump() for doc in documents]\n",
    "save(data=data)"
   ]
  },
  {
   "cell_type": "markdown",
   "id": "4ba9f15f",
   "metadata": {},
   "source": [
    "------"
   ]
  }
 ],
 "metadata": {
  "kernelspec": {
   "display_name": "Python 3 (ipykernel)",
   "language": "python",
   "name": "python3"
  },
  "language_info": {
   "codemirror_mode": {
    "name": "ipython",
    "version": 3
   },
   "file_extension": ".py",
   "mimetype": "text/x-python",
   "name": "python",
   "nbconvert_exporter": "python",
   "pygments_lexer": "ipython3",
   "version": "3.10.11"
  },
  "nbTranslate": {
   "displayLangs": [
    "*"
   ],
   "hotkey": "alt-t",
   "langInMainMenu": true,
   "sourceLang": "en",
   "targetLang": "fr",
   "useGoogleTranslate": true
  },
  "toc": {
   "base_numbering": 1,
   "nav_menu": {},
   "number_sections": true,
   "sideBar": true,
   "skip_h1_title": false,
   "title_cell": "Table of Contents",
   "title_sidebar": "Contents",
   "toc_cell": false,
   "toc_position": {},
   "toc_section_display": true,
   "toc_window_display": false
  }
 },
 "nbformat": 4,
 "nbformat_minor": 5
}
